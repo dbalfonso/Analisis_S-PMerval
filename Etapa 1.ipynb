{
 "cells": [
  {
   "cell_type": "code",
   "execution_count": 1,
   "metadata": {},
   "outputs": [
    {
     "name": "stderr",
     "output_type": "stream",
     "text": [
      "C:\\Users\\alfon\\anaconda3\\lib\\site-packages\\pandas_datareader\\compat\\__init__.py:7: FutureWarning: pandas.util.testing is deprecated. Use the functions in the public API at pandas.testing instead.\n",
      "  from pandas.util.testing import assert_frame_equal\n"
     ]
    }
   ],
   "source": [
    "#importamos los modulos necesarios\n",
    "import numpy as np\n",
    "import pandas as pd\n",
    "from pandas_datareader import data as wb\n",
    "import matplotlib.pyplot as plt"
   ]
  },
  {
   "cell_type": "code",
   "execution_count": 2,
   "metadata": {},
   "outputs": [],
   "source": [
    "#determinamos el portafolio a analisar para la etapa 1\n",
    "tickers=[\"GGAL\",\"BBAR\",\"IRS\",\"TEO\",\"TGS\"]\n",
    "data=pd.DataFrame()\n",
    "for t in tickers:\n",
    "    data[t]=wb.DataReader(t,data_source=\"yahoo\",start=\"2003-01-01\",end=\"2007-12-31\")[\"Adj Close\"]"
   ]
  },
  {
   "cell_type": "code",
   "execution_count": 3,
   "metadata": {
    "scrolled": true
   },
   "outputs": [
    {
     "data": {
      "text/html": [
       "<div>\n",
       "<style scoped>\n",
       "    .dataframe tbody tr th:only-of-type {\n",
       "        vertical-align: middle;\n",
       "    }\n",
       "\n",
       "    .dataframe tbody tr th {\n",
       "        vertical-align: top;\n",
       "    }\n",
       "\n",
       "    .dataframe thead th {\n",
       "        text-align: right;\n",
       "    }\n",
       "</style>\n",
       "<table border=\"1\" class=\"dataframe\">\n",
       "  <thead>\n",
       "    <tr style=\"text-align: right;\">\n",
       "      <th></th>\n",
       "      <th>GGAL</th>\n",
       "      <th>BBAR</th>\n",
       "      <th>IRS</th>\n",
       "      <th>TEO</th>\n",
       "      <th>TGS</th>\n",
       "    </tr>\n",
       "    <tr>\n",
       "      <th>Date</th>\n",
       "      <th></th>\n",
       "      <th></th>\n",
       "      <th></th>\n",
       "      <th></th>\n",
       "      <th></th>\n",
       "    </tr>\n",
       "  </thead>\n",
       "  <tbody>\n",
       "    <tr>\n",
       "      <th>2003-01-02</th>\n",
       "      <td>1.952801</td>\n",
       "      <td>1.949206</td>\n",
       "      <td>3.417969</td>\n",
       "      <td>1.380578</td>\n",
       "      <td>0.676484</td>\n",
       "    </tr>\n",
       "    <tr>\n",
       "      <th>2003-01-03</th>\n",
       "      <td>2.076637</td>\n",
       "      <td>2.096103</td>\n",
       "      <td>3.548178</td>\n",
       "      <td>1.507131</td>\n",
       "      <td>0.740046</td>\n",
       "    </tr>\n",
       "    <tr>\n",
       "      <th>2003-01-06</th>\n",
       "      <td>2.400516</td>\n",
       "      <td>2.288199</td>\n",
       "      <td>3.789064</td>\n",
       "      <td>1.627931</td>\n",
       "      <td>0.785448</td>\n",
       "    </tr>\n",
       "    <tr>\n",
       "      <th>2003-01-07</th>\n",
       "      <td>2.381465</td>\n",
       "      <td>2.389896</td>\n",
       "      <td>3.893230</td>\n",
       "      <td>1.702713</td>\n",
       "      <td>0.817229</td>\n",
       "    </tr>\n",
       "    <tr>\n",
       "      <th>2003-01-08</th>\n",
       "      <td>2.381465</td>\n",
       "      <td>2.344697</td>\n",
       "      <td>3.893230</td>\n",
       "      <td>1.702713</td>\n",
       "      <td>0.817229</td>\n",
       "    </tr>\n",
       "    <tr>\n",
       "      <th>...</th>\n",
       "      <td>...</td>\n",
       "      <td>...</td>\n",
       "      <td>...</td>\n",
       "      <td>...</td>\n",
       "      <td>...</td>\n",
       "    </tr>\n",
       "    <tr>\n",
       "      <th>2007-12-24</th>\n",
       "      <td>7.042132</td>\n",
       "      <td>4.915934</td>\n",
       "      <td>9.804690</td>\n",
       "      <td>13.282307</td>\n",
       "      <td>2.665073</td>\n",
       "    </tr>\n",
       "    <tr>\n",
       "      <th>2007-12-26</th>\n",
       "      <td>7.176268</td>\n",
       "      <td>5.002504</td>\n",
       "      <td>9.889327</td>\n",
       "      <td>13.334078</td>\n",
       "      <td>2.583350</td>\n",
       "    </tr>\n",
       "    <tr>\n",
       "      <th>2007-12-27</th>\n",
       "      <td>7.157106</td>\n",
       "      <td>4.915934</td>\n",
       "      <td>9.602867</td>\n",
       "      <td>13.155756</td>\n",
       "      <td>2.678694</td>\n",
       "    </tr>\n",
       "    <tr>\n",
       "      <th>2007-12-28</th>\n",
       "      <td>7.157106</td>\n",
       "      <td>4.885015</td>\n",
       "      <td>9.472659</td>\n",
       "      <td>12.914152</td>\n",
       "      <td>2.637832</td>\n",
       "    </tr>\n",
       "    <tr>\n",
       "      <th>2007-12-31</th>\n",
       "      <td>7.262499</td>\n",
       "      <td>4.687141</td>\n",
       "      <td>9.459638</td>\n",
       "      <td>12.799106</td>\n",
       "      <td>2.710475</td>\n",
       "    </tr>\n",
       "  </tbody>\n",
       "</table>\n",
       "<p>1258 rows × 5 columns</p>\n",
       "</div>"
      ],
      "text/plain": [
       "                GGAL      BBAR       IRS        TEO       TGS\n",
       "Date                                                         \n",
       "2003-01-02  1.952801  1.949206  3.417969   1.380578  0.676484\n",
       "2003-01-03  2.076637  2.096103  3.548178   1.507131  0.740046\n",
       "2003-01-06  2.400516  2.288199  3.789064   1.627931  0.785448\n",
       "2003-01-07  2.381465  2.389896  3.893230   1.702713  0.817229\n",
       "2003-01-08  2.381465  2.344697  3.893230   1.702713  0.817229\n",
       "...              ...       ...       ...        ...       ...\n",
       "2007-12-24  7.042132  4.915934  9.804690  13.282307  2.665073\n",
       "2007-12-26  7.176268  5.002504  9.889327  13.334078  2.583350\n",
       "2007-12-27  7.157106  4.915934  9.602867  13.155756  2.678694\n",
       "2007-12-28  7.157106  4.885015  9.472659  12.914152  2.637832\n",
       "2007-12-31  7.262499  4.687141  9.459638  12.799106  2.710475\n",
       "\n",
       "[1258 rows x 5 columns]"
      ]
     },
     "execution_count": 3,
     "metadata": {},
     "output_type": "execute_result"
    }
   ],
   "source": [
    "data"
   ]
  },
  {
   "cell_type": "code",
   "execution_count": 4,
   "metadata": {
    "scrolled": true
   },
   "outputs": [
    {
     "data": {
      "image/png": "[encoded data removed]",
      "text/plain": [
       "<Figure size 432x288 with 5 Axes>"
      ]
     },
     "metadata": {
      "needs_background": "light"
     },
     "output_type": "display_data"
    }
   ],
   "source": [
    "#Vemos como se han comportado en el precio cada una\n",
    "data.plot(subplots=True)\n",
    "plt.savefig(\"C:/Users/alfon/Documents/Etapa1_precios_ind\")"
   ]
  },
  {
   "cell_type": "code",
   "execution_count": 5,
   "metadata": {},
   "outputs": [],
   "source": [
    "#Obtenemos precios Maximos para cada ADR con su Fecha\n",
    "preciosMax= round (data.max(),2)\n",
    "fechasMax=data.idxmax()\n",
    "    "
   ]
  },
  {
   "cell_type": "code",
   "execution_count": 6,
   "metadata": {},
   "outputs": [
    {
     "name": "stdout",
     "output_type": "stream",
     "text": [
      "      Precio Maximo   Fecha PM\n",
      "GGAL          10.65 2007-02-20\n",
      "BBAR           7.89 2007-02-21\n",
      "IRS           14.01 2007-05-23\n",
      "TEO           16.31 2007-05-31\n",
      "TGS            3.85 2007-07-05\n"
     ]
    }
   ],
   "source": [
    "#Armamos la tabla para exponer\n",
    "tabla=pd.concat([preciosMax,fechasMax],axis=1)\n",
    "tabla.columns=[\"Precio Maximo\",\"Fecha PM\"]\n",
    "\n",
    "\n",
    "print (tabla)"
   ]
  },
  {
   "cell_type": "code",
   "execution_count": 7,
   "metadata": {},
   "outputs": [
    {
     "name": "stdout",
     "output_type": "stream",
     "text": [
      "      Precio Minimo Fecha PMin\n",
      "GGAL           1.95 2003-01-02\n",
      "BBAR           1.95 2003-01-02\n",
      "IRS            3.42 2003-01-02\n",
      "TEO            1.38 2003-01-02\n",
      "TGS            0.67 2003-01-28\n"
     ]
    }
   ],
   "source": [
    "#Hacemos lo mismo para precios Minimos\n",
    "preciosMin= round (data.min(),2)\n",
    "fechasMin=data.idxmin()\n",
    "tablaMin=pd.concat([preciosMin,fechasMin],axis=1)\n",
    "tablaMin.columns=[\"Precio Minimo\",\"Fecha PMin\"]\n",
    "    \n",
    "print (tablaMin)"
   ]
  },
  {
   "cell_type": "code",
   "execution_count": 8,
   "metadata": {},
   "outputs": [
    {
     "data": {
      "text/html": [
       "<div>\n",
       "<style scoped>\n",
       "    .dataframe tbody tr th:only-of-type {\n",
       "        vertical-align: middle;\n",
       "    }\n",
       "\n",
       "    .dataframe tbody tr th {\n",
       "        vertical-align: top;\n",
       "    }\n",
       "\n",
       "    .dataframe thead th {\n",
       "        text-align: right;\n",
       "    }\n",
       "</style>\n",
       "<table border=\"1\" class=\"dataframe\">\n",
       "  <thead>\n",
       "    <tr style=\"text-align: right;\">\n",
       "      <th></th>\n",
       "      <th>GGAL</th>\n",
       "      <th>BBAR</th>\n",
       "      <th>IRS</th>\n",
       "      <th>TEO</th>\n",
       "      <th>TGS</th>\n",
       "    </tr>\n",
       "    <tr>\n",
       "      <th>Date</th>\n",
       "      <th></th>\n",
       "      <th></th>\n",
       "      <th></th>\n",
       "      <th></th>\n",
       "      <th></th>\n",
       "    </tr>\n",
       "  </thead>\n",
       "  <tbody>\n",
       "    <tr>\n",
       "      <th>2003-01-02</th>\n",
       "      <td>0.000000</td>\n",
       "      <td>0.000000</td>\n",
       "      <td>0.000000</td>\n",
       "      <td>0.000000</td>\n",
       "      <td>0.000000</td>\n",
       "    </tr>\n",
       "    <tr>\n",
       "      <th>2003-01-03</th>\n",
       "      <td>6.341489</td>\n",
       "      <td>7.536240</td>\n",
       "      <td>3.809528</td>\n",
       "      <td>9.166666</td>\n",
       "      <td>9.395971</td>\n",
       "    </tr>\n",
       "    <tr>\n",
       "      <th>2003-01-06</th>\n",
       "      <td>22.926848</td>\n",
       "      <td>17.391330</td>\n",
       "      <td>10.857155</td>\n",
       "      <td>17.916653</td>\n",
       "      <td>16.107386</td>\n",
       "    </tr>\n",
       "    <tr>\n",
       "      <th>2003-01-07</th>\n",
       "      <td>21.951247</td>\n",
       "      <td>22.608697</td>\n",
       "      <td>13.904775</td>\n",
       "      <td>23.333338</td>\n",
       "      <td>20.805375</td>\n",
       "    </tr>\n",
       "    <tr>\n",
       "      <th>2003-01-08</th>\n",
       "      <td>21.951247</td>\n",
       "      <td>20.289859</td>\n",
       "      <td>13.904775</td>\n",
       "      <td>23.333338</td>\n",
       "      <td>20.805375</td>\n",
       "    </tr>\n",
       "    <tr>\n",
       "      <th>...</th>\n",
       "      <td>...</td>\n",
       "      <td>...</td>\n",
       "      <td>...</td>\n",
       "      <td>...</td>\n",
       "      <td>...</td>\n",
       "    </tr>\n",
       "    <tr>\n",
       "      <th>2007-12-24</th>\n",
       "      <td>260.617068</td>\n",
       "      <td>152.201867</td>\n",
       "      <td>186.857167</td>\n",
       "      <td>862.083252</td>\n",
       "      <td>293.959706</td>\n",
       "    </tr>\n",
       "    <tr>\n",
       "      <th>2007-12-26</th>\n",
       "      <td>267.485958</td>\n",
       "      <td>156.643176</td>\n",
       "      <td>189.333394</td>\n",
       "      <td>865.833216</td>\n",
       "      <td>281.879154</td>\n",
       "    </tr>\n",
       "    <tr>\n",
       "      <th>2007-12-27</th>\n",
       "      <td>266.504716</td>\n",
       "      <td>152.201867</td>\n",
       "      <td>180.952397</td>\n",
       "      <td>852.916750</td>\n",
       "      <td>295.973184</td>\n",
       "    </tr>\n",
       "    <tr>\n",
       "      <th>2007-12-28</th>\n",
       "      <td>266.504716</td>\n",
       "      <td>150.615676</td>\n",
       "      <td>177.142883</td>\n",
       "      <td>835.416551</td>\n",
       "      <td>289.932855</td>\n",
       "    </tr>\n",
       "    <tr>\n",
       "      <th>2007-12-31</th>\n",
       "      <td>271.901706</td>\n",
       "      <td>140.464154</td>\n",
       "      <td>176.761912</td>\n",
       "      <td>827.083336</td>\n",
       "      <td>300.671148</td>\n",
       "    </tr>\n",
       "  </tbody>\n",
       "</table>\n",
       "<p>1258 rows × 5 columns</p>\n",
       "</div>"
      ],
      "text/plain": [
       "                  GGAL        BBAR         IRS         TEO         TGS\n",
       "Date                                                                  \n",
       "2003-01-02    0.000000    0.000000    0.000000    0.000000    0.000000\n",
       "2003-01-03    6.341489    7.536240    3.809528    9.166666    9.395971\n",
       "2003-01-06   22.926848   17.391330   10.857155   17.916653   16.107386\n",
       "2003-01-07   21.951247   22.608697   13.904775   23.333338   20.805375\n",
       "2003-01-08   21.951247   20.289859   13.904775   23.333338   20.805375\n",
       "...                ...         ...         ...         ...         ...\n",
       "2007-12-24  260.617068  152.201867  186.857167  862.083252  293.959706\n",
       "2007-12-26  267.485958  156.643176  189.333394  865.833216  281.879154\n",
       "2007-12-27  266.504716  152.201867  180.952397  852.916750  295.973184\n",
       "2007-12-28  266.504716  150.615676  177.142883  835.416551  289.932855\n",
       "2007-12-31  271.901706  140.464154  176.761912  827.083336  300.671148\n",
       "\n",
       "[1258 rows x 5 columns]"
      ]
     },
     "execution_count": 8,
     "metadata": {},
     "output_type": "execute_result"
    }
   ],
   "source": [
    "#Calculamos la suba porcentual de cada ADR en Base al 2003-01-01\n",
    "data_variaciones=(data/data.iloc[0]-1)*100\n",
    "data_variaciones"
   ]
  },
  {
   "cell_type": "code",
   "execution_count": 9,
   "metadata": {},
   "outputs": [
    {
     "data": {
      "image/png": "[encoded data removed]",
      "text/plain": [
       "<Figure size 720x432 with 1 Axes>"
      ]
     },
     "metadata": {
      "needs_background": "light"
     },
     "output_type": "display_data"
    }
   ],
   "source": [
    "#Graficamos la suba porcentual de lso ADR\n",
    "data_variaciones.plot(figsize=(10,6))\n",
    "plt.ylabel(\"Variacion en %\")\n",
    "plt.title(\"Varicion de ADR desde 2003 a 2007\")\n",
    "plt.savefig(\"C:/Users/alfon/Documents/Etapa1_precios_var\")\n"
   ]
  },
  {
   "cell_type": "code",
   "execution_count": null,
   "metadata": {},
   "outputs": [],
   "source": []
  },
  {
   "cell_type": "code",
   "execution_count": null,
   "metadata": {},
   "outputs": [],
   "source": []
  },
  {
   "cell_type": "code",
   "execution_count": 10,
   "metadata": {},
   "outputs": [
    {
     "data": {
      "text/plain": [
       "GGAL    3.719017\n",
       "BBAR    2.404642\n",
       "IRS     2.767619\n",
       "TEO     9.270833\n",
       "TGS     4.006711\n",
       "dtype: float64"
      ]
     },
     "execution_count": 10,
     "metadata": {},
     "output_type": "execute_result"
    }
   ],
   "source": [
    "#Vemos el procentaje que subieron los ADR en 5 años\n",
    "data_return_total=data.iloc[-1]/data.iloc[0]\n",
    "data_return_total\n"
   ]
  },
  {
   "cell_type": "code",
   "execution_count": 11,
   "metadata": {},
   "outputs": [],
   "source": [
    "#Sacamos promedio geometrico anual por año de porcentaje de suba\n",
    "data_return_a=round(data_return_total**(1/5)-1,2)\n"
   ]
  },
  {
   "cell_type": "code",
   "execution_count": 12,
   "metadata": {},
   "outputs": [
    {
     "data": {
      "image/png": "[encoded data removed]",
      "text/plain": [
       "<Figure size 432x288 with 1 Axes>"
      ]
     },
     "metadata": {
      "needs_background": "light"
     },
     "output_type": "display_data"
    }
   ],
   "source": [
    "#Graficamos los retornos anuales obtenidos\n",
    "data_return_a.plot.bar(color=(\"b\",\"orange\",\"g\",\"r\",\"m\"))\n",
    "plt.title(\"Rendimiento promedio Anual\")\n",
    "plt.ylabel(\"Rendimiento %\")\n",
    "plt.xlabel(\"ADR\")\n",
    "plt.savefig(\"C:/Users/alfon/Documents/Etapa1_rendimientos\")"
   ]
  },
  {
   "cell_type": "code",
   "execution_count": 13,
   "metadata": {},
   "outputs": [
    {
     "data": {
      "text/html": [
       "<div>\n",
       "<style scoped>\n",
       "    .dataframe tbody tr th:only-of-type {\n",
       "        vertical-align: middle;\n",
       "    }\n",
       "\n",
       "    .dataframe tbody tr th {\n",
       "        vertical-align: top;\n",
       "    }\n",
       "\n",
       "    .dataframe thead th {\n",
       "        text-align: right;\n",
       "    }\n",
       "</style>\n",
       "<table border=\"1\" class=\"dataframe\">\n",
       "  <thead>\n",
       "    <tr style=\"text-align: right;\">\n",
       "      <th></th>\n",
       "      <th>GGAL</th>\n",
       "      <th>BBAR</th>\n",
       "      <th>IRS</th>\n",
       "      <th>TEO</th>\n",
       "      <th>TGS</th>\n",
       "    </tr>\n",
       "    <tr>\n",
       "      <th>Date</th>\n",
       "      <th></th>\n",
       "      <th></th>\n",
       "      <th></th>\n",
       "      <th></th>\n",
       "      <th></th>\n",
       "    </tr>\n",
       "  </thead>\n",
       "  <tbody>\n",
       "    <tr>\n",
       "      <th>2003-01-02</th>\n",
       "      <td>NaN</td>\n",
       "      <td>NaN</td>\n",
       "      <td>NaN</td>\n",
       "      <td>NaN</td>\n",
       "      <td>NaN</td>\n",
       "    </tr>\n",
       "    <tr>\n",
       "      <th>2003-01-03</th>\n",
       "      <td>0.061485</td>\n",
       "      <td>0.072658</td>\n",
       "      <td>0.037388</td>\n",
       "      <td>0.087706</td>\n",
       "      <td>0.089804</td>\n",
       "    </tr>\n",
       "    <tr>\n",
       "      <th>2003-01-06</th>\n",
       "      <td>0.144934</td>\n",
       "      <td>0.087685</td>\n",
       "      <td>0.065685</td>\n",
       "      <td>0.077102</td>\n",
       "      <td>0.059541</td>\n",
       "    </tr>\n",
       "    <tr>\n",
       "      <th>2003-01-07</th>\n",
       "      <td>-0.007968</td>\n",
       "      <td>0.043485</td>\n",
       "      <td>0.027120</td>\n",
       "      <td>0.044913</td>\n",
       "      <td>0.039665</td>\n",
       "    </tr>\n",
       "    <tr>\n",
       "      <th>2003-01-08</th>\n",
       "      <td>0.000000</td>\n",
       "      <td>-0.019094</td>\n",
       "      <td>0.000000</td>\n",
       "      <td>0.000000</td>\n",
       "      <td>0.000000</td>\n",
       "    </tr>\n",
       "    <tr>\n",
       "      <th>...</th>\n",
       "      <td>...</td>\n",
       "      <td>...</td>\n",
       "      <td>...</td>\n",
       "      <td>...</td>\n",
       "      <td>...</td>\n",
       "    </tr>\n",
       "    <tr>\n",
       "      <th>2007-12-24</th>\n",
       "      <td>0.037426</td>\n",
       "      <td>0.011385</td>\n",
       "      <td>0.030336</td>\n",
       "      <td>-0.000433</td>\n",
       "      <td>-0.020237</td>\n",
       "    </tr>\n",
       "    <tr>\n",
       "      <th>2007-12-26</th>\n",
       "      <td>0.018868</td>\n",
       "      <td>0.017457</td>\n",
       "      <td>0.008595</td>\n",
       "      <td>0.003890</td>\n",
       "      <td>-0.031144</td>\n",
       "    </tr>\n",
       "    <tr>\n",
       "      <th>2007-12-27</th>\n",
       "      <td>-0.002674</td>\n",
       "      <td>-0.017457</td>\n",
       "      <td>-0.029394</td>\n",
       "      <td>-0.013464</td>\n",
       "      <td>0.036242</td>\n",
       "    </tr>\n",
       "    <tr>\n",
       "      <th>2007-12-28</th>\n",
       "      <td>0.000000</td>\n",
       "      <td>-0.006309</td>\n",
       "      <td>-0.013652</td>\n",
       "      <td>-0.018536</td>\n",
       "      <td>-0.015372</td>\n",
       "    </tr>\n",
       "    <tr>\n",
       "      <th>2007-12-31</th>\n",
       "      <td>0.014618</td>\n",
       "      <td>-0.041350</td>\n",
       "      <td>-0.001376</td>\n",
       "      <td>-0.008948</td>\n",
       "      <td>0.027166</td>\n",
       "    </tr>\n",
       "  </tbody>\n",
       "</table>\n",
       "<p>1258 rows × 5 columns</p>\n",
       "</div>"
      ],
      "text/plain": [
       "                GGAL      BBAR       IRS       TEO       TGS\n",
       "Date                                                        \n",
       "2003-01-02       NaN       NaN       NaN       NaN       NaN\n",
       "2003-01-03  0.061485  0.072658  0.037388  0.087706  0.089804\n",
       "2003-01-06  0.144934  0.087685  0.065685  0.077102  0.059541\n",
       "2003-01-07 -0.007968  0.043485  0.027120  0.044913  0.039665\n",
       "2003-01-08  0.000000 -0.019094  0.000000  0.000000  0.000000\n",
       "...              ...       ...       ...       ...       ...\n",
       "2007-12-24  0.037426  0.011385  0.030336 -0.000433 -0.020237\n",
       "2007-12-26  0.018868  0.017457  0.008595  0.003890 -0.031144\n",
       "2007-12-27 -0.002674 -0.017457 -0.029394 -0.013464  0.036242\n",
       "2007-12-28  0.000000 -0.006309 -0.013652 -0.018536 -0.015372\n",
       "2007-12-31  0.014618 -0.041350 -0.001376 -0.008948  0.027166\n",
       "\n",
       "[1258 rows x 5 columns]"
      ]
     },
     "execution_count": 13,
     "metadata": {},
     "output_type": "execute_result"
    }
   ],
   "source": [
    "log_returns=np.log(data/data.shift(1))\n",
    "log_returns\n",
    "    "
   ]
  },
  {
   "cell_type": "code",
   "execution_count": 14,
   "metadata": {},
   "outputs": [
    {
     "data": {
      "text/plain": [
       "GGAL    0.261229\n",
       "BBAR    0.174503\n",
       "IRS     0.202464\n",
       "TEO     0.442894\n",
       "TGS     0.276048\n",
       "dtype: float64"
      ]
     },
     "execution_count": 14,
     "metadata": {},
     "output_type": "execute_result"
    }
   ],
   "source": [
    "mean=log_returns.mean()*250\n",
    "mean"
   ]
  },
  {
   "cell_type": "code",
   "execution_count": 15,
   "metadata": {},
   "outputs": [
    {
     "data": {
      "image/png": "[encoded data removed]",
      "text/plain": [
       "<Figure size 360x216 with 1 Axes>"
      ]
     },
     "metadata": {
      "needs_background": "light"
     },
     "output_type": "display_data"
    }
   ],
   "source": [
    "data_stdev=log_returns.std()*250**0.5\n",
    "data_stdev.plot.bar(color=(\"b\",\"orange\",\"g\",\"r\",\"m\"),figsize=(5,3))\n",
    "plt.xlabel(\"ADR\")\n",
    "plt.ylabel(\"Desviacion estandar -'RIESGO'\")\n",
    "plt.title(\"Riesgo de los ADR - Etpa 1\")\n",
    "plt.savefig(\"C:/Users/alfon/Documents/Etapa1_riesgos\")"
   ]
  },
  {
   "cell_type": "code",
   "execution_count": 16,
   "metadata": {},
   "outputs": [
    {
     "data": {
      "text/plain": [
       "GGAL    0.000747\n",
       "BBAR    0.000690\n",
       "IRS     0.000481\n",
       "TEO     0.000719\n",
       "TGS     0.000853\n",
       "dtype: float64"
      ]
     },
     "execution_count": 16,
     "metadata": {},
     "output_type": "execute_result"
    }
   ],
   "source": [
    "data_var=log_returns.var()\n",
    "data_var"
   ]
  },
  {
   "cell_type": "code",
   "execution_count": 17,
   "metadata": {},
   "outputs": [
    {
     "data": {
      "text/html": [
       "<div>\n",
       "<style scoped>\n",
       "    .dataframe tbody tr th:only-of-type {\n",
       "        vertical-align: middle;\n",
       "    }\n",
       "\n",
       "    .dataframe tbody tr th {\n",
       "        vertical-align: top;\n",
       "    }\n",
       "\n",
       "    .dataframe thead th {\n",
       "        text-align: right;\n",
       "    }\n",
       "</style>\n",
       "<table border=\"1\" class=\"dataframe\">\n",
       "  <thead>\n",
       "    <tr style=\"text-align: right;\">\n",
       "      <th></th>\n",
       "      <th>GGAL</th>\n",
       "      <th>BBAR</th>\n",
       "      <th>IRS</th>\n",
       "      <th>TEO</th>\n",
       "      <th>TGS</th>\n",
       "    </tr>\n",
       "  </thead>\n",
       "  <tbody>\n",
       "    <tr>\n",
       "      <th>GGAL</th>\n",
       "      <td>0.186759</td>\n",
       "      <td>0.111932</td>\n",
       "      <td>0.048187</td>\n",
       "      <td>0.084079</td>\n",
       "      <td>0.070318</td>\n",
       "    </tr>\n",
       "    <tr>\n",
       "      <th>BBAR</th>\n",
       "      <td>0.111932</td>\n",
       "      <td>0.172525</td>\n",
       "      <td>0.044917</td>\n",
       "      <td>0.088134</td>\n",
       "      <td>0.068513</td>\n",
       "    </tr>\n",
       "    <tr>\n",
       "      <th>IRS</th>\n",
       "      <td>0.048187</td>\n",
       "      <td>0.044917</td>\n",
       "      <td>0.120243</td>\n",
       "      <td>0.041149</td>\n",
       "      <td>0.032864</td>\n",
       "    </tr>\n",
       "    <tr>\n",
       "      <th>TEO</th>\n",
       "      <td>0.084079</td>\n",
       "      <td>0.088134</td>\n",
       "      <td>0.041149</td>\n",
       "      <td>0.179626</td>\n",
       "      <td>0.072699</td>\n",
       "    </tr>\n",
       "    <tr>\n",
       "      <th>TGS</th>\n",
       "      <td>0.070318</td>\n",
       "      <td>0.068513</td>\n",
       "      <td>0.032864</td>\n",
       "      <td>0.072699</td>\n",
       "      <td>0.213143</td>\n",
       "    </tr>\n",
       "  </tbody>\n",
       "</table>\n",
       "</div>"
      ],
      "text/plain": [
       "          GGAL      BBAR       IRS       TEO       TGS\n",
       "GGAL  0.186759  0.111932  0.048187  0.084079  0.070318\n",
       "BBAR  0.111932  0.172525  0.044917  0.088134  0.068513\n",
       "IRS   0.048187  0.044917  0.120243  0.041149  0.032864\n",
       "TEO   0.084079  0.088134  0.041149  0.179626  0.072699\n",
       "TGS   0.070318  0.068513  0.032864  0.072699  0.213143"
      ]
     },
     "execution_count": 17,
     "metadata": {},
     "output_type": "execute_result"
    }
   ],
   "source": [
    "cov_matrix=log_returns.cov()*250\n",
    "cov_matrix"
   ]
  },
  {
   "cell_type": "code",
   "execution_count": 18,
   "metadata": {},
   "outputs": [
    {
     "data": {
      "text/html": [
       "<div>\n",
       "<style scoped>\n",
       "    .dataframe tbody tr th:only-of-type {\n",
       "        vertical-align: middle;\n",
       "    }\n",
       "\n",
       "    .dataframe tbody tr th {\n",
       "        vertical-align: top;\n",
       "    }\n",
       "\n",
       "    .dataframe thead th {\n",
       "        text-align: right;\n",
       "    }\n",
       "</style>\n",
       "<table border=\"1\" class=\"dataframe\">\n",
       "  <thead>\n",
       "    <tr style=\"text-align: right;\">\n",
       "      <th></th>\n",
       "      <th>GGAL</th>\n",
       "      <th>BBAR</th>\n",
       "      <th>IRS</th>\n",
       "      <th>TEO</th>\n",
       "      <th>TGS</th>\n",
       "    </tr>\n",
       "  </thead>\n",
       "  <tbody>\n",
       "    <tr>\n",
       "      <th>GGAL</th>\n",
       "      <td>1.000000</td>\n",
       "      <td>0.623571</td>\n",
       "      <td>0.321555</td>\n",
       "      <td>0.459050</td>\n",
       "      <td>0.352443</td>\n",
       "    </tr>\n",
       "    <tr>\n",
       "      <th>BBAR</th>\n",
       "      <td>0.623571</td>\n",
       "      <td>1.000000</td>\n",
       "      <td>0.311857</td>\n",
       "      <td>0.500650</td>\n",
       "      <td>0.357281</td>\n",
       "    </tr>\n",
       "    <tr>\n",
       "      <th>IRS</th>\n",
       "      <td>0.321555</td>\n",
       "      <td>0.311857</td>\n",
       "      <td>1.000000</td>\n",
       "      <td>0.279994</td>\n",
       "      <td>0.205287</td>\n",
       "    </tr>\n",
       "    <tr>\n",
       "      <th>TEO</th>\n",
       "      <td>0.459050</td>\n",
       "      <td>0.500650</td>\n",
       "      <td>0.279994</td>\n",
       "      <td>1.000000</td>\n",
       "      <td>0.371544</td>\n",
       "    </tr>\n",
       "    <tr>\n",
       "      <th>TGS</th>\n",
       "      <td>0.352443</td>\n",
       "      <td>0.357281</td>\n",
       "      <td>0.205287</td>\n",
       "      <td>0.371544</td>\n",
       "      <td>1.000000</td>\n",
       "    </tr>\n",
       "  </tbody>\n",
       "</table>\n",
       "</div>"
      ],
      "text/plain": [
       "          GGAL      BBAR       IRS       TEO       TGS\n",
       "GGAL  1.000000  0.623571  0.321555  0.459050  0.352443\n",
       "BBAR  0.623571  1.000000  0.311857  0.500650  0.357281\n",
       "IRS   0.321555  0.311857  1.000000  0.279994  0.205287\n",
       "TEO   0.459050  0.500650  0.279994  1.000000  0.371544\n",
       "TGS   0.352443  0.357281  0.205287  0.371544  1.000000"
      ]
     },
     "execution_count": 18,
     "metadata": {},
     "output_type": "execute_result"
    }
   ],
   "source": [
    "corr_matrix=log_returns.corr()\n",
    "corr_matrix"
   ]
  },
  {
   "cell_type": "code",
   "execution_count": 19,
   "metadata": {},
   "outputs": [],
   "source": [
    "data_var_a=data_var*250"
   ]
  },
  {
   "cell_type": "code",
   "execution_count": 20,
   "metadata": {},
   "outputs": [],
   "source": [
    "#Composicion de los portafolio\n",
    "weigths=np.array([0.2,0.2,0.2,0.2,0.2])"
   ]
  },
  {
   "cell_type": "code",
   "execution_count": 21,
   "metadata": {},
   "outputs": [
    {
     "data": {
      "text/plain": [
       "0.32"
      ]
     },
     "execution_count": 21,
     "metadata": {},
     "output_type": "execute_result"
    }
   ],
   "source": [
    "#rendimineto del portafolio\n",
    "porf_return=sum(data_return_a*weigths)\n",
    "porf_return"
   ]
  },
  {
   "cell_type": "code",
   "execution_count": 22,
   "metadata": {},
   "outputs": [
    {
     "data": {
      "text/plain": [
       "0.08791526399154498"
      ]
     },
     "execution_count": 22,
     "metadata": {},
     "output_type": "execute_result"
    }
   ],
   "source": [
    "#VArianza del portafolio\n",
    "porf_variance=np.dot(weigths.T,np.dot(cov_matrix,weigths))\n",
    "porf_variance"
   ]
  },
  {
   "cell_type": "code",
   "execution_count": 23,
   "metadata": {},
   "outputs": [
    {
     "data": {
      "text/plain": [
       "0.2965050825728709"
      ]
     },
     "execution_count": 23,
     "metadata": {},
     "output_type": "execute_result"
    }
   ],
   "source": [
    "#Volatilidad del portafolio (Desviacion estandar)\n",
    "porf_volatility=porf_variance**0.5\n",
    "porf_volatility"
   ]
  },
  {
   "cell_type": "code",
   "execution_count": 24,
   "metadata": {},
   "outputs": [
    {
     "name": "stdout",
     "output_type": "stream",
     "text": [
      "29.65%\n"
     ]
    }
   ],
   "source": [
    "#Desviacion estandar del portafolio\n",
    "print (str(round(porf_volatility,4)*100)+\"%\")"
   ]
  },
  {
   "cell_type": "code",
   "execution_count": 25,
   "metadata": {},
   "outputs": [
    {
     "data": {
      "image/png": "[encoded data removed]",
      "text/plain": [
       "<Figure size 432x288 with 1 Axes>"
      ]
     },
     "metadata": {},
     "output_type": "display_data"
    }
   ],
   "source": [
    "#Grafico del portafolio\n",
    "plt.pie(weigths,colors=(\"b\",\"orange\",\"g\",\"r\",\"m\"),labels=tickers,autopct='%1.1f%%')\n",
    "plt.title(\"Rendimiento Anual 32% Desviacion Estandar Portafolio 29.65% \")\n",
    "plt.axis(\"equal\")\n",
    "plt.savefig(\"C:/Users/alfon/Documents/Etapa1_porfolio\")\n"
   ]
  },
  {
   "cell_type": "code",
   "execution_count": null,
   "metadata": {},
   "outputs": [],
   "source": []
  }
 ],
 "metadata": {
  "kernelspec": {
   "display_name": "Python 3",
   "language": "python",
   "name": "python3"
  },
  "language_info": {
   "codemirror_mode": {
    "name": "ipython",
    "version": 3
   },
   "file_extension": ".py",
   "mimetype": "text/x-python",
   "name": "python",
   "nbconvert_exporter": "python",
   "pygments_lexer": "ipython3",
   "version": "3.7.6"
  }
 },
 "nbformat": 4,
 "nbformat_minor": 4
}

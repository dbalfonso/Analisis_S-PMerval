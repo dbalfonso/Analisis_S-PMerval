{
 "cells": [
  {
   "cell_type": "code",
   "execution_count": 4,
   "metadata": {},
   "outputs": [],
   "source": [
    "import pandas as pd\n",
    "import numpy as np\n",
    "from pandas_datareader import data as wb\n",
    "import matplotlib.pyplot as plt"
   ]
  },
  {
   "cell_type": "code",
   "execution_count": 5,
   "metadata": {},
   "outputs": [],
   "source": [
    "tickers=[\"GGAL\",\"GGAL.BA\"]\n",
    "CCL_data=pd.DataFrame()\n",
    "for t in tickers:\n",
    "    CCL_data[t] =wb.DataReader(t,data_source=\"yahoo\",start=\"2003-1-1\")[\"Adj Close\"]"
   ]
  },
  {
   "cell_type": "code",
   "execution_count": 7,
   "metadata": {},
   "outputs": [
    {
     "data": {
      "text/html": [
       "<div>\n",
       "<style scoped>\n",
       "    .dataframe tbody tr th:only-of-type {\n",
       "        vertical-align: middle;\n",
       "    }\n",
       "\n",
       "    .dataframe tbody tr th {\n",
       "        vertical-align: top;\n",
       "    }\n",
       "\n",
       "    .dataframe thead th {\n",
       "        text-align: right;\n",
       "    }\n",
       "</style>\n",
       "<table border=\"1\" class=\"dataframe\">\n",
       "  <thead>\n",
       "    <tr style=\"text-align: right;\">\n",
       "      <th></th>\n",
       "      <th>GGAL</th>\n",
       "      <th>GGAL.BA</th>\n",
       "    </tr>\n",
       "    <tr>\n",
       "      <th>Date</th>\n",
       "      <th></th>\n",
       "      <th></th>\n",
       "    </tr>\n",
       "  </thead>\n",
       "  <tbody>\n",
       "    <tr>\n",
       "      <th>2003-01-02</th>\n",
       "      <td>1.952801</td>\n",
       "      <td>0.666931</td>\n",
       "    </tr>\n",
       "    <tr>\n",
       "      <th>2003-01-03</th>\n",
       "      <td>2.076637</td>\n",
       "      <td>0.702539</td>\n",
       "    </tr>\n",
       "    <tr>\n",
       "      <th>2003-01-06</th>\n",
       "      <td>2.400516</td>\n",
       "      <td>0.765094</td>\n",
       "    </tr>\n",
       "    <tr>\n",
       "      <th>2003-01-07</th>\n",
       "      <td>2.381465</td>\n",
       "      <td>0.765094</td>\n",
       "    </tr>\n",
       "    <tr>\n",
       "      <th>2003-01-08</th>\n",
       "      <td>2.381465</td>\n",
       "      <td>0.784342</td>\n",
       "    </tr>\n",
       "    <tr>\n",
       "      <th>...</th>\n",
       "      <td>...</td>\n",
       "      <td>...</td>\n",
       "    </tr>\n",
       "    <tr>\n",
       "      <th>2020-05-18</th>\n",
       "      <td>8.890000</td>\n",
       "      <td>106.650002</td>\n",
       "    </tr>\n",
       "    <tr>\n",
       "      <th>2020-05-19</th>\n",
       "      <td>8.490000</td>\n",
       "      <td>101.949997</td>\n",
       "    </tr>\n",
       "    <tr>\n",
       "      <th>2020-05-20</th>\n",
       "      <td>8.760000</td>\n",
       "      <td>104.800003</td>\n",
       "    </tr>\n",
       "    <tr>\n",
       "      <th>2020-05-21</th>\n",
       "      <td>9.380000</td>\n",
       "      <td>111.000000</td>\n",
       "    </tr>\n",
       "    <tr>\n",
       "      <th>2020-05-22</th>\n",
       "      <td>9.510000</td>\n",
       "      <td>109.349998</td>\n",
       "    </tr>\n",
       "  </tbody>\n",
       "</table>\n",
       "<p>4378 rows × 2 columns</p>\n",
       "</div>"
      ],
      "text/plain": [
       "                GGAL     GGAL.BA\n",
       "Date                            \n",
       "2003-01-02  1.952801    0.666931\n",
       "2003-01-03  2.076637    0.702539\n",
       "2003-01-06  2.400516    0.765094\n",
       "2003-01-07  2.381465    0.765094\n",
       "2003-01-08  2.381465    0.784342\n",
       "...              ...         ...\n",
       "2020-05-18  8.890000  106.650002\n",
       "2020-05-19  8.490000  101.949997\n",
       "2020-05-20  8.760000  104.800003\n",
       "2020-05-21  9.380000  111.000000\n",
       "2020-05-22  9.510000  109.349998\n",
       "\n",
       "[4378 rows x 2 columns]"
      ]
     },
     "execution_count": 7,
     "metadata": {},
     "output_type": "execute_result"
    }
   ],
   "source": [
    "CCL_data"
   ]
  },
  {
   "cell_type": "code",
   "execution_count": 8,
   "metadata": {},
   "outputs": [],
   "source": [
    "CCL=(CCL_data[\"GGAL.BA\"]*10)/CCL_data[\"GGAL\"]"
   ]
  },
  {
   "cell_type": "code",
   "execution_count": 37,
   "metadata": {},
   "outputs": [
    {
     "data": {
      "text/plain": [
       "6.6567392642281815"
      ]
     },
     "execution_count": 37,
     "metadata": {},
     "output_type": "execute_result"
    }
   ],
   "source": [
    "CCL."
   ]
  },
  {
   "cell_type": "code",
   "execution_count": 10,
   "metadata": {},
   "outputs": [
    {
     "data": {
      "text/plain": [
       "[]"
      ]
     },
     "execution_count": 10,
     "metadata": {},
     "output_type": "execute_result"
    },
    {
     "data": {
      "image/png": "[encoded data removed]",
      "text/plain": [
       "<Figure size 720x432 with 1 Axes>"
      ]
     },
     "metadata": {
      "needs_background": "light"
     },
     "output_type": "display_data"
    }
   ],
   "source": [
    "CCL.plot(figsize=(10,6))\n",
    "plt.title(\"Contado con Liquidacion\")\n",
    "plt.ylabel(\"Pesos por Dolar\")\n",
    "plt.plot(label=\"Tipo de Cambio\")\n"
   ]
  },
  {
   "cell_type": "code",
   "execution_count": 11,
   "metadata": {},
   "outputs": [],
   "source": [
    "import quandl"
   ]
  },
  {
   "cell_type": "code",
   "execution_count": 12,
   "metadata": {},
   "outputs": [],
   "source": [
    "merval=pd.read_excel(\"C:/Users/alfon/Downloads/Libro3.xlsx\",index_col=\"Fecha\")"
   ]
  },
  {
   "cell_type": "code",
   "execution_count": 13,
   "metadata": {},
   "outputs": [
    {
     "data": {
      "text/html": [
       "<div>\n",
       "<style scoped>\n",
       "    .dataframe tbody tr th:only-of-type {\n",
       "        vertical-align: middle;\n",
       "    }\n",
       "\n",
       "    .dataframe tbody tr th {\n",
       "        vertical-align: top;\n",
       "    }\n",
       "\n",
       "    .dataframe thead th {\n",
       "        text-align: right;\n",
       "    }\n",
       "</style>\n",
       "<table border=\"1\" class=\"dataframe\">\n",
       "  <thead>\n",
       "    <tr style=\"text-align: right;\">\n",
       "      <th></th>\n",
       "      <th>Código de Indice</th>\n",
       "      <th>Descripcion</th>\n",
       "      <th>ValorApertura</th>\n",
       "      <th>ValorMaximo</th>\n",
       "      <th>ValorMinimo</th>\n",
       "      <th>Cierre en moneda original</th>\n",
       "      <th>Cierre en dólares</th>\n",
       "      <th>P/E</th>\n",
       "      <th>COT/VL</th>\n",
       "      <th>Volatilidad</th>\n",
       "      <th>Capitalización Bursátil</th>\n",
       "      <th>Valor de Mercado</th>\n",
       "    </tr>\n",
       "    <tr>\n",
       "      <th>Fecha</th>\n",
       "      <th></th>\n",
       "      <th></th>\n",
       "      <th></th>\n",
       "      <th></th>\n",
       "      <th></th>\n",
       "      <th></th>\n",
       "      <th></th>\n",
       "      <th></th>\n",
       "      <th></th>\n",
       "      <th></th>\n",
       "      <th></th>\n",
       "      <th></th>\n",
       "    </tr>\n",
       "  </thead>\n",
       "  <tbody>\n",
       "    <tr>\n",
       "      <th>2003-01-02</th>\n",
       "      <td>MERVA</td>\n",
       "      <td>S&amp;P Merval</td>\n",
       "      <td>NaN</td>\n",
       "      <td>527.73</td>\n",
       "      <td>519.24</td>\n",
       "      <td>520.55</td>\n",
       "      <td>154.92560</td>\n",
       "      <td>14.250</td>\n",
       "      <td>1.1170</td>\n",
       "      <td>0.3440</td>\n",
       "      <td>2.288790e+05</td>\n",
       "      <td>NaN</td>\n",
       "    </tr>\n",
       "    <tr>\n",
       "      <th>2003-01-03</th>\n",
       "      <td>MERVA</td>\n",
       "      <td>S&amp;P Merval</td>\n",
       "      <td>NaN</td>\n",
       "      <td>530.64</td>\n",
       "      <td>518.32</td>\n",
       "      <td>530.64</td>\n",
       "      <td>159.35135</td>\n",
       "      <td>14.260</td>\n",
       "      <td>1.1230</td>\n",
       "      <td>0.3364</td>\n",
       "      <td>2.321540e+05</td>\n",
       "      <td>NaN</td>\n",
       "    </tr>\n",
       "    <tr>\n",
       "      <th>2003-01-06</th>\n",
       "      <td>MERVA</td>\n",
       "      <td>S&amp;P Merval</td>\n",
       "      <td>NaN</td>\n",
       "      <td>555.56</td>\n",
       "      <td>530.64</td>\n",
       "      <td>554.43</td>\n",
       "      <td>166.99699</td>\n",
       "      <td>13.710</td>\n",
       "      <td>1.1290</td>\n",
       "      <td>0.3492</td>\n",
       "      <td>2.329360e+05</td>\n",
       "      <td>NaN</td>\n",
       "    </tr>\n",
       "    <tr>\n",
       "      <th>2003-01-07</th>\n",
       "      <td>MERVA</td>\n",
       "      <td>S&amp;P Merval</td>\n",
       "      <td>NaN</td>\n",
       "      <td>565.45</td>\n",
       "      <td>555.03</td>\n",
       "      <td>559.65</td>\n",
       "      <td>170.62500</td>\n",
       "      <td>13.810</td>\n",
       "      <td>1.1390</td>\n",
       "      <td>0.3481</td>\n",
       "      <td>2.368360e+05</td>\n",
       "      <td>NaN</td>\n",
       "    </tr>\n",
       "    <tr>\n",
       "      <th>2003-01-08</th>\n",
       "      <td>MERVA</td>\n",
       "      <td>S&amp;P Merval</td>\n",
       "      <td>NaN</td>\n",
       "      <td>574.19</td>\n",
       "      <td>556.87</td>\n",
       "      <td>569.90</td>\n",
       "      <td>172.69697</td>\n",
       "      <td>13.960</td>\n",
       "      <td>1.1560</td>\n",
       "      <td>0.3376</td>\n",
       "      <td>2.371360e+05</td>\n",
       "      <td>NaN</td>\n",
       "    </tr>\n",
       "    <tr>\n",
       "      <th>...</th>\n",
       "      <td>...</td>\n",
       "      <td>...</td>\n",
       "      <td>...</td>\n",
       "      <td>...</td>\n",
       "      <td>...</td>\n",
       "      <td>...</td>\n",
       "      <td>...</td>\n",
       "      <td>...</td>\n",
       "      <td>...</td>\n",
       "      <td>...</td>\n",
       "      <td>...</td>\n",
       "      <td>...</td>\n",
       "    </tr>\n",
       "    <tr>\n",
       "      <th>2020-05-13</th>\n",
       "      <td>MERVA</td>\n",
       "      <td>S&amp;P Merval</td>\n",
       "      <td>39133.71</td>\n",
       "      <td>39133.71</td>\n",
       "      <td>37334.53</td>\n",
       "      <td>37842.81</td>\n",
       "      <td>559.39113</td>\n",
       "      <td>5.392</td>\n",
       "      <td>0.9071</td>\n",
       "      <td>0.8144</td>\n",
       "      <td>1.581085e+12</td>\n",
       "      <td>1.636789e+12</td>\n",
       "    </tr>\n",
       "    <tr>\n",
       "      <th>2020-05-14</th>\n",
       "      <td>MERVA</td>\n",
       "      <td>S&amp;P Merval</td>\n",
       "      <td>37842.81</td>\n",
       "      <td>39413.13</td>\n",
       "      <td>37286.20</td>\n",
       "      <td>39225.67</td>\n",
       "      <td>579.06215</td>\n",
       "      <td>5.853</td>\n",
       "      <td>0.9071</td>\n",
       "      <td>0.7679</td>\n",
       "      <td>1.628911e+12</td>\n",
       "      <td>1.686704e+12</td>\n",
       "    </tr>\n",
       "    <tr>\n",
       "      <th>2020-05-15</th>\n",
       "      <td>MERVA</td>\n",
       "      <td>S&amp;P Merval</td>\n",
       "      <td>39225.67</td>\n",
       "      <td>40621.95</td>\n",
       "      <td>38958.88</td>\n",
       "      <td>39388.33</td>\n",
       "      <td>580.69188</td>\n",
       "      <td>5.877</td>\n",
       "      <td>0.9109</td>\n",
       "      <td>0.7679</td>\n",
       "      <td>1.645763e+12</td>\n",
       "      <td>1.703089e+12</td>\n",
       "    </tr>\n",
       "    <tr>\n",
       "      <th>2020-05-18</th>\n",
       "      <td>MERVA</td>\n",
       "      <td>S&amp;P Merval</td>\n",
       "      <td>39388.33</td>\n",
       "      <td>41098.47</td>\n",
       "      <td>39388.33</td>\n",
       "      <td>40286.72</td>\n",
       "      <td>593.14959</td>\n",
       "      <td>6.011</td>\n",
       "      <td>0.9316</td>\n",
       "      <td>0.7128</td>\n",
       "      <td>1.677413e+12</td>\n",
       "      <td>1.736348e+12</td>\n",
       "    </tr>\n",
       "    <tr>\n",
       "      <th>2020-05-19</th>\n",
       "      <td>MERVA</td>\n",
       "      <td>S&amp;P Merval</td>\n",
       "      <td>40286.72</td>\n",
       "      <td>40286.72</td>\n",
       "      <td>39247.16</td>\n",
       "      <td>39388.72</td>\n",
       "      <td>579.16071</td>\n",
       "      <td>5.864</td>\n",
       "      <td>0.9044</td>\n",
       "      <td>0.7179</td>\n",
       "      <td>1.636397e+12</td>\n",
       "      <td>1.693299e+12</td>\n",
       "    </tr>\n",
       "  </tbody>\n",
       "</table>\n",
       "<p>4266 rows × 12 columns</p>\n",
       "</div>"
      ],
      "text/plain": [
       "           Código de Indice Descripcion  ValorApertura  ValorMaximo  \\\n",
       "Fecha                                                                 \n",
       "2003-01-02       MERVA       S&P Merval            NaN       527.73   \n",
       "2003-01-03       MERVA       S&P Merval            NaN       530.64   \n",
       "2003-01-06       MERVA       S&P Merval            NaN       555.56   \n",
       "2003-01-07       MERVA       S&P Merval            NaN       565.45   \n",
       "2003-01-08       MERVA       S&P Merval            NaN       574.19   \n",
       "...                     ...         ...            ...          ...   \n",
       "2020-05-13       MERVA       S&P Merval       39133.71     39133.71   \n",
       "2020-05-14       MERVA       S&P Merval       37842.81     39413.13   \n",
       "2020-05-15       MERVA       S&P Merval       39225.67     40621.95   \n",
       "2020-05-18       MERVA       S&P Merval       39388.33     41098.47   \n",
       "2020-05-19       MERVA       S&P Merval       40286.72     40286.72   \n",
       "\n",
       "            ValorMinimo  Cierre en moneda original  Cierre en dólares     P/E  \\\n",
       "Fecha                                                                           \n",
       "2003-01-02       519.24                     520.55          154.92560  14.250   \n",
       "2003-01-03       518.32                     530.64          159.35135  14.260   \n",
       "2003-01-06       530.64                     554.43          166.99699  13.710   \n",
       "2003-01-07       555.03                     559.65          170.62500  13.810   \n",
       "2003-01-08       556.87                     569.90          172.69697  13.960   \n",
       "...                 ...                        ...                ...     ...   \n",
       "2020-05-13     37334.53                   37842.81          559.39113   5.392   \n",
       "2020-05-14     37286.20                   39225.67          579.06215   5.853   \n",
       "2020-05-15     38958.88                   39388.33          580.69188   5.877   \n",
       "2020-05-18     39388.33                   40286.72          593.14959   6.011   \n",
       "2020-05-19     39247.16                   39388.72          579.16071   5.864   \n",
       "\n",
       "            COT/VL  Volatilidad  Capitalización Bursátil  Valor de Mercado  \n",
       "Fecha                                                                       \n",
       "2003-01-02  1.1170       0.3440             2.288790e+05               NaN  \n",
       "2003-01-03  1.1230       0.3364             2.321540e+05               NaN  \n",
       "2003-01-06  1.1290       0.3492             2.329360e+05               NaN  \n",
       "2003-01-07  1.1390       0.3481             2.368360e+05               NaN  \n",
       "2003-01-08  1.1560       0.3376             2.371360e+05               NaN  \n",
       "...            ...          ...                      ...               ...  \n",
       "2020-05-13  0.9071       0.8144             1.581085e+12      1.636789e+12  \n",
       "2020-05-14  0.9071       0.7679             1.628911e+12      1.686704e+12  \n",
       "2020-05-15  0.9109       0.7679             1.645763e+12      1.703089e+12  \n",
       "2020-05-18  0.9316       0.7128             1.677413e+12      1.736348e+12  \n",
       "2020-05-19  0.9044       0.7179             1.636397e+12      1.693299e+12  \n",
       "\n",
       "[4266 rows x 12 columns]"
      ]
     },
     "execution_count": 13,
     "metadata": {},
     "output_type": "execute_result"
    }
   ],
   "source": [
    "merval"
   ]
  },
  {
   "cell_type": "code",
   "execution_count": 14,
   "metadata": {},
   "outputs": [
    {
     "data": {
      "text/plain": [
       "2003-01-02    152.419127\n",
       "2003-01-03    156.852027\n",
       "2003-01-06    173.954883\n",
       "2003-01-07    174.199100\n",
       "2003-01-08    173.036441\n",
       "                 ...    \n",
       "2020-05-18    335.817112\n",
       "2020-05-19    328.013962\n",
       "2020-05-20           NaN\n",
       "2020-05-21           NaN\n",
       "2020-05-22           NaN\n",
       "Length: 4488, dtype: float64"
      ]
     },
     "execution_count": 14,
     "metadata": {},
     "output_type": "execute_result"
    }
   ],
   "source": [
    "merval_usd=merval[\"Cierre en moneda original\"] /CCL\n",
    "merval_usd"
   ]
  },
  {
   "cell_type": "code",
   "execution_count": 15,
   "metadata": {},
   "outputs": [
    {
     "data": {
      "image/png": "[encoded data removed]",
      "text/plain": [
       "<Figure size 720x432 with 1 Axes>"
      ]
     },
     "metadata": {
      "needs_background": "light"
     },
     "output_type": "display_data"
    }
   ],
   "source": [
    "plt.figure(figsize=(10,6))\n",
    "plt.plot(merval_usd, color='green')\n",
    "plt.title(\"Merval en Usd\")\n",
    "plt.ylabel(\"En Usd\")\n",
    "plt.xlabel(\"\")\n",
    "plt.legend(labels=\"Merval\")\n",
    "plt.savefig(\"C:/Users/alfon/Documents/Merval_usd.png\")\n"
   ]
  },
  {
   "cell_type": "code",
   "execution_count": 38,
   "metadata": {},
   "outputs": [
    {
     "data": {
      "text/plain": [
       "443.5910560397128"
      ]
     },
     "execution_count": 38,
     "metadata": {},
     "output_type": "execute_result"
    }
   ],
   "source": [
    "#Obtencion del mercal al principio 2013\n",
    "merval_usd.at[\"2013-01-02\"]"
   ]
  },
  {
   "cell_type": "code",
   "execution_count": null,
   "metadata": {},
   "outputs": [],
   "source": []
  },
  {
   "cell_type": "code",
   "execution_count": null,
   "metadata": {},
   "outputs": [],
   "source": []
  }
 ],
 "metadata": {
  "kernelspec": {
   "display_name": "Python 3",
   "language": "python",
   "name": "python3"
  },
  "language_info": {
   "codemirror_mode": {
    "name": "ipython",
    "version": 3
   },
   "file_extension": ".py",
   "mimetype": "text/x-python",
   "name": "python",
   "nbconvert_exporter": "python",
   "pygments_lexer": "ipython3",
   "version": "3.7.6"
  }
 },
 "nbformat": 4,
 "nbformat_minor": 4
}
